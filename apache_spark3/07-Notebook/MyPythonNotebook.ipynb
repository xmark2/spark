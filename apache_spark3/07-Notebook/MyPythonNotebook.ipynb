{
 "cells": [
  {
   "cell_type": "code",
   "execution_count": 1,
   "metadata": {},
   "outputs": [
    {
     "data": {
      "text/html": [
       "<style scoped>\n",
       "  .ansiout {\n",
       "    display: block;\n",
       "    unicode-bidi: embed;\n",
       "    white-space: pre-wrap;\n",
       "    word-wrap: break-word;\n",
       "    word-break: break-all;\n",
       "    font-family: \"Source Code Pro\", \"Menlo\", monospace;;\n",
       "    font-size: 13px;\n",
       "    color: #555;\n",
       "    margin-left: 4px;\n",
       "    line-height: 19px;\n",
       "  }\n",
       "</style>\n",
       "<div class=\"ansiout\"></div>"
      ]
     },
     "metadata": {},
     "output_type": "display_data"
    }
   ],
   "source": [
    "from pyspark.sql import *\n",
    "from pyspark.sql.functions import *\n",
    "from pyspark.sql.types import *\n",
    "\n",
    "def to_date_df(df, fmt, fld):\n",
    "    return df.withColumn(fld, to_date(col(fld), fmt))"
   ]
  },
  {
   "cell_type": "code",
   "execution_count": 2,
   "metadata": {},
   "outputs": [
    {
     "data": {
      "text/html": [
       "<style scoped>\n",
       "  .ansiout {\n",
       "    display: block;\n",
       "    unicode-bidi: embed;\n",
       "    white-space: pre-wrap;\n",
       "    word-wrap: break-word;\n",
       "    word-break: break-all;\n",
       "    font-family: \"Source Code Pro\", \"Menlo\", monospace;;\n",
       "    font-size: 13px;\n",
       "    color: #555;\n",
       "    margin-left: 4px;\n",
       "    line-height: 19px;\n",
       "  }\n",
       "</style>\n",
       "<div class=\"ansiout\"></div>"
      ]
     },
     "metadata": {},
     "output_type": "display_data"
    }
   ],
   "source": [
    "my_schema = StructType([\n",
    "  StructField(\"ID\", StringType()),\n",
    "  StructField(\"EventDate\", StringType())])\n",
    "\n",
    "my_rows = [Row(\"123\", \"04/05/2020\"), Row(\"124\", \"4/5/2020\"), Row(\"125\", \"04/5/2020\"), Row(\"126\", \"4/05/2020\")]\n",
    "my_rdd = spark.sparkContext.parallelize(my_rows, 2)\n",
    "my_df = spark.createDataFrame(my_rdd, my_schema)"
   ]
  },
  {
   "cell_type": "code",
   "execution_count": 3,
   "metadata": {},
   "outputs": [
    {
     "data": {
      "text/html": [
       "<style scoped>\n",
       "  .ansiout {\n",
       "    display: block;\n",
       "    unicode-bidi: embed;\n",
       "    white-space: pre-wrap;\n",
       "    word-wrap: break-word;\n",
       "    word-break: break-all;\n",
       "    font-family: \"Source Code Pro\", \"Menlo\", monospace;;\n",
       "    font-size: 13px;\n",
       "    color: #555;\n",
       "    margin-left: 4px;\n",
       "    line-height: 19px;\n",
       "  }\n",
       "</style>\n",
       "<div class=\"ansiout\">root\n",
       "-- ID: string (nullable = true)\n",
       "-- EventDate: string (nullable = true)\n",
       "\n",
       "+---+----------+\n",
       " ID| EventDate|\n",
       "+---+----------+\n",
       "123|04/05/2020|\n",
       "124|  4/5/2020|\n",
       "125| 04/5/2020|\n",
       "126| 4/05/2020|\n",
       "+---+----------+\n",
       "\n",
       "root\n",
       "-- ID: string (nullable = true)\n",
       "-- EventDate: date (nullable = true)\n",
       "\n",
       "+---+----------+\n",
       " ID| EventDate|\n",
       "+---+----------+\n",
       "123|2020-04-05|\n",
       "124|2020-04-05|\n",
       "125|2020-04-05|\n",
       "126|2020-04-05|\n",
       "+---+----------+\n",
       "\n",
       "</div>"
      ]
     },
     "metadata": {},
     "output_type": "display_data"
    }
   ],
   "source": [
    "my_df.printSchema()\n",
    "my_df.show()\n",
    "new_df = to_date_df(my_df,  \"M/d/y\", \"EventDate\")\n",
    "new_df.printSchema()\n",
    "new_df.show() "
   ]
  }
 ],
 "metadata": {
  "kernelspec": {
   "display_name": "Python 3",
   "language": "python",
   "name": "python3"
  },
  "language_info": {
   "codemirror_mode": {
    "name": "ipython",
    "version": 3
   },
   "file_extension": ".py",
   "mimetype": "text/x-python",
   "name": "python",
   "nbconvert_exporter": "python",
   "pygments_lexer": "ipython3",
   "version": "3.7.0"
  },
  "name": "MyPythonNotebook",
  "notebookId": 2858727166054233
 },
 "nbformat": 4,
 "nbformat_minor": 1
}
